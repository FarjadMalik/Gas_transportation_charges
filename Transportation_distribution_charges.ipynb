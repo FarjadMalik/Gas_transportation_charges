{
 "cells": [
  {
   "cell_type": "code",
   "execution_count": 1,
   "id": "8712c7bb-8a71-404f-a637-746088838162",
   "metadata": {
    "tags": []
   },
   "outputs": [],
   "source": [
    "# import libraries\n",
    "import pandas as pd\n",
    "import numpy as np\n",
    "import random\n",
    "from datetime import datetime\n",
    "import time"
   ]
  },
  {
   "cell_type": "markdown",
   "id": "a0fde9ea-01f0-4948-b191-cfb36499071f",
   "metadata": {},
   "source": [
    "# Read and explore datasets"
   ]
  },
  {
   "cell_type": "code",
   "execution_count": 2,
   "id": "2f1c85cf-bccd-4219-abc4-facc3d6dd2ca",
   "metadata": {
    "tags": []
   },
   "outputs": [
    {
     "data": {
      "text/html": [
       "<div>\n",
       "<style scoped>\n",
       "    .dataframe tbody tr th:only-of-type {\n",
       "        vertical-align: middle;\n",
       "    }\n",
       "\n",
       "    .dataframe tbody tr th {\n",
       "        vertical-align: top;\n",
       "    }\n",
       "\n",
       "    .dataframe thead th {\n",
       "        text-align: right;\n",
       "    }\n",
       "</style>\n",
       "<table border=\"1\" class=\"dataframe\">\n",
       "  <thead>\n",
       "    <tr style=\"text-align: right;\">\n",
       "      <th></th>\n",
       "      <th>meter_id</th>\n",
       "      <th>aq_kwh</th>\n",
       "      <th>exit_zone</th>\n",
       "    </tr>\n",
       "  </thead>\n",
       "  <tbody>\n",
       "    <tr>\n",
       "      <th>0</th>\n",
       "      <td>14676236</td>\n",
       "      <td>28978</td>\n",
       "      <td>EA1</td>\n",
       "    </tr>\n",
       "    <tr>\n",
       "      <th>1</th>\n",
       "      <td>34509937</td>\n",
       "      <td>78324</td>\n",
       "      <td>SO1</td>\n",
       "    </tr>\n",
       "    <tr>\n",
       "      <th>2</th>\n",
       "      <td>50264822</td>\n",
       "      <td>265667</td>\n",
       "      <td>NT1</td>\n",
       "    </tr>\n",
       "    <tr>\n",
       "      <th>3</th>\n",
       "      <td>88357331</td>\n",
       "      <td>484399</td>\n",
       "      <td>SE2</td>\n",
       "    </tr>\n",
       "  </tbody>\n",
       "</table>\n",
       "</div>"
      ],
      "text/plain": [
       "   meter_id  aq_kwh exit_zone\n",
       "0  14676236   28978       EA1\n",
       "1  34509937   78324       SO1\n",
       "2  50264822  265667       NT1\n",
       "3  88357331  484399       SE2"
      ]
     },
     "execution_count": 2,
     "metadata": {},
     "output_type": "execute_result"
    }
   ],
   "source": [
    "# read inputs \n",
    "meter_list = pd.read_excel('gorilla_test_data.xlsx', sheet_name='meter_list')\n",
    "meter_list"
   ]
  },
  {
   "cell_type": "code",
   "execution_count": 3,
   "id": "f3045f25-7caf-4a8f-810a-f5cc7a8f4346",
   "metadata": {},
   "outputs": [
    {
     "data": {
      "text/html": [
       "<div>\n",
       "<style scoped>\n",
       "    .dataframe tbody tr th:only-of-type {\n",
       "        vertical-align: middle;\n",
       "    }\n",
       "\n",
       "    .dataframe tbody tr th {\n",
       "        vertical-align: top;\n",
       "    }\n",
       "\n",
       "    .dataframe thead th {\n",
       "        text-align: right;\n",
       "    }\n",
       "</style>\n",
       "<table border=\"1\" class=\"dataframe\">\n",
       "  <thead>\n",
       "    <tr style=\"text-align: right;\">\n",
       "      <th></th>\n",
       "      <th>meter_id</th>\n",
       "      <th>date</th>\n",
       "      <th>kwh</th>\n",
       "    </tr>\n",
       "  </thead>\n",
       "  <tbody>\n",
       "    <tr>\n",
       "      <th>0</th>\n",
       "      <td>14676236</td>\n",
       "      <td>2020-06-01</td>\n",
       "      <td>22.070768</td>\n",
       "    </tr>\n",
       "    <tr>\n",
       "      <th>1</th>\n",
       "      <td>14676236</td>\n",
       "      <td>2020-06-02</td>\n",
       "      <td>19.170720</td>\n",
       "    </tr>\n",
       "    <tr>\n",
       "      <th>2</th>\n",
       "      <td>14676236</td>\n",
       "      <td>2020-06-03</td>\n",
       "      <td>23.555111</td>\n",
       "    </tr>\n",
       "    <tr>\n",
       "      <th>3</th>\n",
       "      <td>14676236</td>\n",
       "      <td>2020-06-04</td>\n",
       "      <td>18.220712</td>\n",
       "    </tr>\n",
       "    <tr>\n",
       "      <th>4</th>\n",
       "      <td>14676236</td>\n",
       "      <td>2020-06-05</td>\n",
       "      <td>14.196134</td>\n",
       "    </tr>\n",
       "    <tr>\n",
       "      <th>...</th>\n",
       "      <td>...</td>\n",
       "      <td>...</td>\n",
       "      <td>...</td>\n",
       "    </tr>\n",
       "    <tr>\n",
       "      <th>3407</th>\n",
       "      <td>88357331</td>\n",
       "      <td>2022-09-27</td>\n",
       "      <td>441.014725</td>\n",
       "    </tr>\n",
       "    <tr>\n",
       "      <th>3408</th>\n",
       "      <td>88357331</td>\n",
       "      <td>2022-09-28</td>\n",
       "      <td>441.512055</td>\n",
       "    </tr>\n",
       "    <tr>\n",
       "      <th>3409</th>\n",
       "      <td>88357331</td>\n",
       "      <td>2022-09-29</td>\n",
       "      <td>437.240657</td>\n",
       "    </tr>\n",
       "    <tr>\n",
       "      <th>3410</th>\n",
       "      <td>88357331</td>\n",
       "      <td>2022-09-30</td>\n",
       "      <td>517.608354</td>\n",
       "    </tr>\n",
       "    <tr>\n",
       "      <th>3411</th>\n",
       "      <td>88357331</td>\n",
       "      <td>2022-10-01</td>\n",
       "      <td>460.535505</td>\n",
       "    </tr>\n",
       "  </tbody>\n",
       "</table>\n",
       "<p>3412 rows × 3 columns</p>\n",
       "</div>"
      ],
      "text/plain": [
       "      meter_id       date         kwh\n",
       "0     14676236 2020-06-01   22.070768\n",
       "1     14676236 2020-06-02   19.170720\n",
       "2     14676236 2020-06-03   23.555111\n",
       "3     14676236 2020-06-04   18.220712\n",
       "4     14676236 2020-06-05   14.196134\n",
       "...        ...        ...         ...\n",
       "3407  88357331 2022-09-27  441.014725\n",
       "3408  88357331 2022-09-28  441.512055\n",
       "3409  88357331 2022-09-29  437.240657\n",
       "3410  88357331 2022-09-30  517.608354\n",
       "3411  88357331 2022-10-01  460.535505\n",
       "\n",
       "[3412 rows x 3 columns]"
      ]
     },
     "execution_count": 3,
     "metadata": {},
     "output_type": "execute_result"
    }
   ],
   "source": [
    "forecast_df = pd.read_excel('gorilla_test_data.xlsx', sheet_name='forecast_table')\n",
    "forecast_df"
   ]
  },
  {
   "cell_type": "code",
   "execution_count": 4,
   "id": "aa4fe695-ecb8-4875-8f15-9bcc9bf4a4a2",
   "metadata": {},
   "outputs": [
    {
     "data": {
      "text/html": [
       "<div>\n",
       "<style scoped>\n",
       "    .dataframe tbody tr th:only-of-type {\n",
       "        vertical-align: middle;\n",
       "    }\n",
       "\n",
       "    .dataframe tbody tr th {\n",
       "        vertical-align: top;\n",
       "    }\n",
       "\n",
       "    .dataframe thead th {\n",
       "        text-align: right;\n",
       "    }\n",
       "</style>\n",
       "<table border=\"1\" class=\"dataframe\">\n",
       "  <thead>\n",
       "    <tr style=\"text-align: right;\">\n",
       "      <th></th>\n",
       "      <th>date</th>\n",
       "      <th>exit_zone</th>\n",
       "      <th>aq_min_kwh</th>\n",
       "      <th>aq_max_kwh</th>\n",
       "      <th>rate_p_per_kwh</th>\n",
       "    </tr>\n",
       "  </thead>\n",
       "  <tbody>\n",
       "    <tr>\n",
       "      <th>0</th>\n",
       "      <td>2020-04-01</td>\n",
       "      <td>EA1</td>\n",
       "      <td>0</td>\n",
       "      <td>73200.0</td>\n",
       "      <td>0.2652</td>\n",
       "    </tr>\n",
       "    <tr>\n",
       "      <th>1</th>\n",
       "      <td>2020-04-01</td>\n",
       "      <td>EA1</td>\n",
       "      <td>73200</td>\n",
       "      <td>732000.0</td>\n",
       "      <td>0.1980</td>\n",
       "    </tr>\n",
       "    <tr>\n",
       "      <th>2</th>\n",
       "      <td>2020-04-01</td>\n",
       "      <td>EA1</td>\n",
       "      <td>732000</td>\n",
       "      <td>NaN</td>\n",
       "      <td>0.2875</td>\n",
       "    </tr>\n",
       "    <tr>\n",
       "      <th>3</th>\n",
       "      <td>2020-04-01</td>\n",
       "      <td>EA2</td>\n",
       "      <td>0</td>\n",
       "      <td>73200.0</td>\n",
       "      <td>0.2970</td>\n",
       "    </tr>\n",
       "    <tr>\n",
       "      <th>4</th>\n",
       "      <td>2020-04-01</td>\n",
       "      <td>EA2</td>\n",
       "      <td>73200</td>\n",
       "      <td>732000.0</td>\n",
       "      <td>0.1524</td>\n",
       "    </tr>\n",
       "    <tr>\n",
       "      <th>...</th>\n",
       "      <td>...</td>\n",
       "      <td>...</td>\n",
       "      <td>...</td>\n",
       "      <td>...</td>\n",
       "      <td>...</td>\n",
       "    </tr>\n",
       "    <tr>\n",
       "      <th>1135</th>\n",
       "      <td>2024-10-01</td>\n",
       "      <td>WM2</td>\n",
       "      <td>73200</td>\n",
       "      <td>732000.0</td>\n",
       "      <td>0.4537</td>\n",
       "    </tr>\n",
       "    <tr>\n",
       "      <th>1136</th>\n",
       "      <td>2024-10-01</td>\n",
       "      <td>WM2</td>\n",
       "      <td>732000</td>\n",
       "      <td>NaN</td>\n",
       "      <td>0.7534</td>\n",
       "    </tr>\n",
       "    <tr>\n",
       "      <th>1137</th>\n",
       "      <td>2024-10-01</td>\n",
       "      <td>WM3</td>\n",
       "      <td>0</td>\n",
       "      <td>73200.0</td>\n",
       "      <td>0.7263</td>\n",
       "    </tr>\n",
       "    <tr>\n",
       "      <th>1138</th>\n",
       "      <td>2024-10-01</td>\n",
       "      <td>WM3</td>\n",
       "      <td>73200</td>\n",
       "      <td>732000.0</td>\n",
       "      <td>0.6109</td>\n",
       "    </tr>\n",
       "    <tr>\n",
       "      <th>1139</th>\n",
       "      <td>2024-10-01</td>\n",
       "      <td>WM3</td>\n",
       "      <td>732000</td>\n",
       "      <td>NaN</td>\n",
       "      <td>0.4928</td>\n",
       "    </tr>\n",
       "  </tbody>\n",
       "</table>\n",
       "<p>1140 rows × 5 columns</p>\n",
       "</div>"
      ],
      "text/plain": [
       "           date exit_zone  aq_min_kwh  aq_max_kwh  rate_p_per_kwh\n",
       "0    2020-04-01       EA1           0     73200.0          0.2652\n",
       "1    2020-04-01       EA1       73200    732000.0          0.1980\n",
       "2    2020-04-01       EA1      732000         NaN          0.2875\n",
       "3    2020-04-01       EA2           0     73200.0          0.2970\n",
       "4    2020-04-01       EA2       73200    732000.0          0.1524\n",
       "...         ...       ...         ...         ...             ...\n",
       "1135 2024-10-01       WM2       73200    732000.0          0.4537\n",
       "1136 2024-10-01       WM2      732000         NaN          0.7534\n",
       "1137 2024-10-01       WM3           0     73200.0          0.7263\n",
       "1138 2024-10-01       WM3       73200    732000.0          0.6109\n",
       "1139 2024-10-01       WM3      732000         NaN          0.4928\n",
       "\n",
       "[1140 rows x 5 columns]"
      ]
     },
     "execution_count": 4,
     "metadata": {},
     "output_type": "execute_result"
    }
   ],
   "source": [
    "rates_df = pd.read_excel('gorilla_test_data.xlsx', sheet_name='rate_table')\n",
    "rates_df"
   ]
  },
  {
   "cell_type": "markdown",
   "id": "96f78533-0a3d-4522-8f5f-452adf7a85d9",
   "metadata": {},
   "source": [
    "# Helper functions"
   ]
  },
  {
   "cell_type": "markdown",
   "id": "72795947-cb2d-4e2e-afe5-af24d537d7cf",
   "metadata": {},
   "source": [
    "Function to calculate transportation charges using meters, their forecasts and rates for various exit zones:"
   ]
  },
  {
   "cell_type": "code",
   "execution_count": 5,
   "id": "a49e9ece-b92f-4462-81ba-463aae965613",
   "metadata": {},
   "outputs": [],
   "source": [
    "\n",
    "def calculate_transportation_charges(meters: pd.DataFrame, forecast: pd.DataFrame, rates: pd.DataFrame) -> pd.DataFrame:\n",
    "    \"\"\"\n",
    "    Calculates transportation charges for each meter in meters DataFrame based on their forecasted consumption \n",
    "    and consumption rates from the rates DataFrame.\n",
    "    \n",
    "    Args:\n",
    "    meters (pd.DataFrame): DataFrame containing information about the meters, including meter_id.\n",
    "    forecast (pd.DataFrame): DataFrame containing forecasted consumption for each meter, with meter_id as one of the columns.\n",
    "    rates (pd.DataFrame): DataFrame containing the consumption rates for each exit zone.\n",
    "    \n",
    "    Returns:\n",
    "    pd.DataFrame: DataFrame with meter_id, total estimated consumption (kWh), and total cost (£) for each meter.\n",
    "    \"\"\"\n",
    "    \n",
    "    # merge meter info with forecast based on meter_id\n",
    "    meter_forecast = pd.merge(meters, forecast, on='meter_id')\n",
    "    \n",
    "    # replace empty values with infinity (open-ended)\n",
    "    rates = rates.replace(np.nan, np.inf)\n",
    "    \n",
    "    # rename columns to make more sense\n",
    "    rates = rates.rename(columns={\"date\": \"startdate_rate\"})\n",
    "    \n",
    "    # merge meter forecast and rates based on the exit zone\n",
    "    consumption_rates = pd.merge(meter_forecast, rates, on=['exit_zone'], how='inner')\n",
    "\n",
    "    # only keep valid rates that apply i.e. assuring the AQ is\n",
    "    # between the minimum AQ (aq_min_kwh, included) and the maximum AQ (aq_max_kwh, excluded)\n",
    "    consumption_rates = consumption_rates[(consumption_rates['aq_kwh'] >= consumption_rates['aq_min_kwh']) & \n",
    "                                          (consumption_rates['aq_kwh'] < consumption_rates['aq_max_kwh'])]\n",
    "    \n",
    "    # sort dataframe to be able to calculate end dates\n",
    "    consumption_rates = consumption_rates.sort_values(by=['exit_zone', 'startdate_rate', 'date'])    \n",
    "    # calculate end of rate period for each consumption\n",
    "    consumption_rates['enddate_rate'] = consumption_rates.groupby(['exit_zone', 'meter_id', 'date'])['startdate_rate'].shift(-1)\n",
    "    \n",
    "    # only keep those rows where forecast date is between start and end dates for rates\n",
    "    consumption_rates = consumption_rates.loc[(consumption_rates.date >= consumption_rates.startdate_rate) & \n",
    "                                          (\n",
    "                                              (consumption_rates.enddate_rate.isnull()) | \n",
    "                                              (consumption_rates.date < consumption_rates.enddate_rate)\n",
    "                                          )]\n",
    "    \n",
    "    # calculate cost (forecast in kwh * rate per kwh) in pence\n",
    "    consumption_rates['cost_pence'] = consumption_rates.apply(lambda row: row['kwh'] * row['rate_p_per_kwh'], axis=1)\n",
    "    \n",
    "    # group by meter, and sum cost for each forecast to calculate total cost of each meter\n",
    "    cost_df = consumption_rates.groupby('meter_id')['cost_pence'].sum().reset_index(name='Total Cost (p)')\n",
    "\n",
    "    # convert cost in pence to pounds\n",
    "    cost_df['Total Cost (£)'] = cost_df['Total Cost (p)'] / 100\n",
    "    \n",
    "    # group by meter, and sum forecasted consumption to calculate total consumption for each column\n",
    "    meter_consumption = consumption_rates.groupby('meter_id')['kwh'].sum().reset_index(name='Total Estimated Consumption (kWh)')\n",
    "    \n",
    "    # return merged dataframe of consumption and cost (only keep total cost in pounds) for each meter\n",
    "    return pd.merge(meter_consumption, cost_df[['meter_id', 'Total Cost (£)']], on='meter_id').round(2)\n"
   ]
  },
  {
   "cell_type": "markdown",
   "id": "9dd14c47-9fe2-44e5-b091-32e70de557f3",
   "metadata": {},
   "source": [
    "Functions to generate sample data:"
   ]
  },
  {
   "cell_type": "code",
   "execution_count": 6,
   "id": "87270ee0-5390-4497-8100-8780763cedf2",
   "metadata": {},
   "outputs": [],
   "source": [
    "\n",
    "def generate_meter_list(num_meters: int, valid_zones: list) -> pd.DataFrame:\n",
    "    \"\"\"\n",
    "    Generate a list of meters with randomly generated meter IDs, exit zones using the list of valid zones \n",
    "    and forecasted AQ consumption values in kwh.\n",
    "    \n",
    "    Args:\n",
    "        num_meters (int): Number of meters to generate.\n",
    "        valid_zones (list): List of valid exit zones for meters.\n",
    "        \n",
    "    Returns:\n",
    "        pd.DataFrame: A DataFrame object containing generated meter data with columns: \n",
    "                      meter_id, exit_zone, and aq_kwh.\n",
    "    \"\"\"\n",
    "    meters = pd.DataFrame({\n",
    "        'meter_id': [random.randint(10000000, 99999999) for _ in range(num_meters)],\n",
    "        'exit_zone': [random.choice(valid_zones) for _ in range(num_meters)],\n",
    "        'aq_kwh': np.random.randint(low=10000, high=1000000, size=num_meters)\n",
    "    })\n",
    "    return meters\n"
   ]
  },
  {
   "cell_type": "code",
   "execution_count": 7,
   "id": "04e3c1c8-c853-4c81-a9bd-be0f1c68e8ff",
   "metadata": {
    "tags": []
   },
   "outputs": [],
   "source": [
    "\n",
    "def generate_consumption_data(meters: list, start_date: datetime, num_days: int) -> pd.DataFrame:\n",
    "    \"\"\"\n",
    "    Generate forecasted meter consumption data for a given list of meters and from a start date range.\n",
    "    \n",
    "    Args:\n",
    "        meters (pd.DataFrame): A list of meters (meter_ids) to use for consumption data\n",
    "        start_date (datetime): Start date of the consumption data as a datetime object.\n",
    "        num_days (int): Number of days for which consumption data should be generated.\n",
    "        \n",
    "    Returns:\n",
    "        pd.DataFrame: A DataFrame object containing generated meter consumption data with columns:\n",
    "                      date, meter_id, and kwh.\n",
    "    \"\"\"\n",
    "    dates = pd.date_range(start_date, periods=num_days, freq='D')\n",
    "    consumption = pd.DataFrame({'date': np.repeat(dates, len(meters)),\n",
    "                                'meter_id': np.tile(meters, num_days),\n",
    "                                'kwh': np.random.randint(0, 1000, len(meters)*num_days)})\n",
    "    return consumption\n"
   ]
  },
  {
   "cell_type": "markdown",
   "id": "4e08f766-e992-4067-a88b-ce2d55eff88a",
   "metadata": {},
   "source": [
    "Function to benchmark:"
   ]
  },
  {
   "cell_type": "code",
   "execution_count": 8,
   "id": "e7ded9fa-4a30-4877-bafe-c086b2b1ed1a",
   "metadata": {
    "tags": []
   },
   "outputs": [],
   "source": [
    "def benchmark_transportation_charges(num_meters: int, valid_zones: list, start_date: datetime, num_days: int, rates: pd.DataFrame):\n",
    "    \"\"\"\n",
    "    This function generates random meter data and consumption data based on the provided parameters, and then calls the \n",
    "    `calculate_transportation_charges` function to calculate the transportation charges for the generated data. It also \n",
    "    prints the execution time for the calculation.\n",
    "    \n",
    "    Parameters:\n",
    "    -----------\n",
    "    num_meters: int\n",
    "        Number of meters to generate data for.\n",
    "        \n",
    "    valid_zones: list\n",
    "        List of valid exit zones for the meters.\n",
    "        \n",
    "    start_date: datetime\n",
    "        Start date for the consumption data.\n",
    "        \n",
    "    num_days: int\n",
    "        Number of days of consumption forecast to generate.\n",
    "        \n",
    "    rates: pd.DataFrame\n",
    "        DataFrame containing rate information for the exit zones.\n",
    "        \n",
    "    Returns:\n",
    "    --------\n",
    "    transport_cost: pd.DataFrame\n",
    "        DataFrame containing the total estimated consumption and total cost for each meter.\n",
    "    \"\"\"\n",
    "    # Generate random meter data using helper function\n",
    "    meters = generate_meter_list(num_meters, valid_zones)\n",
    "    \n",
    "    # Generate random consumption data based on the meter data using helper function\n",
    "    forecast = generate_consumption_data(meters['meter_id'].tolist(), start_date, num_days)\n",
    "    \n",
    "    # Calculate transportation charges for the generated data\n",
    "    start_time = time.time()\n",
    "    transportation_cost = calculate_transportation_charges(meters, forecast, rates)\n",
    "    end_time = time.time()\n",
    "    \n",
    "    # Print execution time\n",
    "    elapsed_time = end_time - start_time\n",
    "    print(f\"Execution time for {num_meters} meters and {num_days} days of consumption forecast: {elapsed_time:.4f} seconds\")\n",
    "    \n",
    "    return transportation_cost\n"
   ]
  },
  {
   "cell_type": "markdown",
   "id": "c583f656-1d6b-482d-9ce3-e44c5754e16b",
   "metadata": {},
   "source": [
    "## Task 1: Cost using provided datasets"
   ]
  },
  {
   "cell_type": "code",
   "execution_count": 9,
   "id": "c338a5c5-f34b-425c-96ba-2b50b8f51518",
   "metadata": {
    "tags": []
   },
   "outputs": [
    {
     "name": "stdout",
     "output_type": "stream",
     "text": [
      "Transportation distribution charges for provided dataset: \n",
      "   meter_id  Total Estimated Consumption (kWh)  Total Cost (£)\n",
      "0  14676236                            28978.0          100.15\n",
      "1  34509937                            78324.0          275.49\n",
      "2  50264822                           265667.0          731.24\n",
      "3  88357331                           484399.0         1433.16\n"
     ]
    }
   ],
   "source": [
    "print(f\"Transportation distribution charges for provided dataset: \\n{calculate_transportation_charges(meter_list, forecast_df, rates_df)}\")"
   ]
  },
  {
   "cell_type": "markdown",
   "id": "90915dd0-4ae3-414d-a9df-8badc50c5834",
   "metadata": {},
   "source": [
    "## Task 2: Function that generates a list of random meters of any size. \n",
    "Examples of valid exit zones can be found in the rate table. You may randomly generate the annual quantity."
   ]
  },
  {
   "cell_type": "code",
   "execution_count": 10,
   "id": "0fe4f28b",
   "metadata": {},
   "outputs": [
    {
     "data": {
      "text/html": [
       "<div>\n",
       "<style scoped>\n",
       "    .dataframe tbody tr th:only-of-type {\n",
       "        vertical-align: middle;\n",
       "    }\n",
       "\n",
       "    .dataframe tbody tr th {\n",
       "        vertical-align: top;\n",
       "    }\n",
       "\n",
       "    .dataframe thead th {\n",
       "        text-align: right;\n",
       "    }\n",
       "</style>\n",
       "<table border=\"1\" class=\"dataframe\">\n",
       "  <thead>\n",
       "    <tr style=\"text-align: right;\">\n",
       "      <th></th>\n",
       "      <th>meter_id</th>\n",
       "      <th>exit_zone</th>\n",
       "      <th>aq_kwh</th>\n",
       "    </tr>\n",
       "  </thead>\n",
       "  <tbody>\n",
       "    <tr>\n",
       "      <th>0</th>\n",
       "      <td>48423455</td>\n",
       "      <td>WA2</td>\n",
       "      <td>386332</td>\n",
       "    </tr>\n",
       "    <tr>\n",
       "      <th>1</th>\n",
       "      <td>90233576</td>\n",
       "      <td>SE2</td>\n",
       "      <td>797430</td>\n",
       "    </tr>\n",
       "    <tr>\n",
       "      <th>2</th>\n",
       "      <td>86117822</td>\n",
       "      <td>LS</td>\n",
       "      <td>949751</td>\n",
       "    </tr>\n",
       "    <tr>\n",
       "      <th>3</th>\n",
       "      <td>34845937</td>\n",
       "      <td>LC</td>\n",
       "      <td>98978</td>\n",
       "    </tr>\n",
       "    <tr>\n",
       "      <th>4</th>\n",
       "      <td>81269975</td>\n",
       "      <td>EA4</td>\n",
       "      <td>136745</td>\n",
       "    </tr>\n",
       "    <tr>\n",
       "      <th>5</th>\n",
       "      <td>98812658</td>\n",
       "      <td>SE2</td>\n",
       "      <td>72036</td>\n",
       "    </tr>\n",
       "    <tr>\n",
       "      <th>6</th>\n",
       "      <td>21102326</td>\n",
       "      <td>EM3</td>\n",
       "      <td>598856</td>\n",
       "    </tr>\n",
       "    <tr>\n",
       "      <th>7</th>\n",
       "      <td>50671192</td>\n",
       "      <td>WM2</td>\n",
       "      <td>546897</td>\n",
       "    </tr>\n",
       "    <tr>\n",
       "      <th>8</th>\n",
       "      <td>31821787</td>\n",
       "      <td>WM3</td>\n",
       "      <td>149757</td>\n",
       "    </tr>\n",
       "    <tr>\n",
       "      <th>9</th>\n",
       "      <td>66772206</td>\n",
       "      <td>NE2</td>\n",
       "      <td>507492</td>\n",
       "    </tr>\n",
       "  </tbody>\n",
       "</table>\n",
       "</div>"
      ],
      "text/plain": [
       "   meter_id exit_zone  aq_kwh\n",
       "0  48423455       WA2  386332\n",
       "1  90233576       SE2  797430\n",
       "2  86117822        LS  949751\n",
       "3  34845937        LC   98978\n",
       "4  81269975       EA4  136745\n",
       "5  98812658       SE2   72036\n",
       "6  21102326       EM3  598856\n",
       "7  50671192       WM2  546897\n",
       "8  31821787       WM3  149757\n",
       "9  66772206       NE2  507492"
      ]
     },
     "execution_count": 10,
     "metadata": {},
     "output_type": "execute_result"
    }
   ],
   "source": [
    "generated_meters = generate_meter_list(10, rates_df.exit_zone.unique().tolist())\n",
    "generated_meters"
   ]
  },
  {
   "cell_type": "markdown",
   "id": "9851814e-6798-4d0b-b3f2-379ab93a1c34",
   "metadata": {},
   "source": [
    "## Task 3: Function that generates mock consumption data given a list of meters and a start date and duration (number of days in the forecast). \n",
    "The data may be completely random and it doesn't have to match with the meters' annual quantities either"
   ]
  },
  {
   "cell_type": "code",
   "execution_count": 11,
   "id": "9bea6e95",
   "metadata": {},
   "outputs": [
    {
     "data": {
      "text/html": [
       "<div>\n",
       "<style scoped>\n",
       "    .dataframe tbody tr th:only-of-type {\n",
       "        vertical-align: middle;\n",
       "    }\n",
       "\n",
       "    .dataframe tbody tr th {\n",
       "        vertical-align: top;\n",
       "    }\n",
       "\n",
       "    .dataframe thead th {\n",
       "        text-align: right;\n",
       "    }\n",
       "</style>\n",
       "<table border=\"1\" class=\"dataframe\">\n",
       "  <thead>\n",
       "    <tr style=\"text-align: right;\">\n",
       "      <th></th>\n",
       "      <th>date</th>\n",
       "      <th>meter_id</th>\n",
       "      <th>kwh</th>\n",
       "    </tr>\n",
       "  </thead>\n",
       "  <tbody>\n",
       "    <tr>\n",
       "      <th>0</th>\n",
       "      <td>2023-01-04</td>\n",
       "      <td>48423455</td>\n",
       "      <td>793</td>\n",
       "    </tr>\n",
       "    <tr>\n",
       "      <th>1</th>\n",
       "      <td>2023-01-04</td>\n",
       "      <td>90233576</td>\n",
       "      <td>111</td>\n",
       "    </tr>\n",
       "    <tr>\n",
       "      <th>2</th>\n",
       "      <td>2023-01-04</td>\n",
       "      <td>86117822</td>\n",
       "      <td>769</td>\n",
       "    </tr>\n",
       "    <tr>\n",
       "      <th>3</th>\n",
       "      <td>2023-01-04</td>\n",
       "      <td>34845937</td>\n",
       "      <td>27</td>\n",
       "    </tr>\n",
       "    <tr>\n",
       "      <th>4</th>\n",
       "      <td>2023-01-04</td>\n",
       "      <td>81269975</td>\n",
       "      <td>560</td>\n",
       "    </tr>\n",
       "    <tr>\n",
       "      <th>...</th>\n",
       "      <td>...</td>\n",
       "      <td>...</td>\n",
       "      <td>...</td>\n",
       "    </tr>\n",
       "    <tr>\n",
       "      <th>3645</th>\n",
       "      <td>2024-01-03</td>\n",
       "      <td>98812658</td>\n",
       "      <td>478</td>\n",
       "    </tr>\n",
       "    <tr>\n",
       "      <th>3646</th>\n",
       "      <td>2024-01-03</td>\n",
       "      <td>21102326</td>\n",
       "      <td>578</td>\n",
       "    </tr>\n",
       "    <tr>\n",
       "      <th>3647</th>\n",
       "      <td>2024-01-03</td>\n",
       "      <td>50671192</td>\n",
       "      <td>648</td>\n",
       "    </tr>\n",
       "    <tr>\n",
       "      <th>3648</th>\n",
       "      <td>2024-01-03</td>\n",
       "      <td>31821787</td>\n",
       "      <td>521</td>\n",
       "    </tr>\n",
       "    <tr>\n",
       "      <th>3649</th>\n",
       "      <td>2024-01-03</td>\n",
       "      <td>66772206</td>\n",
       "      <td>380</td>\n",
       "    </tr>\n",
       "  </tbody>\n",
       "</table>\n",
       "<p>3650 rows × 3 columns</p>\n",
       "</div>"
      ],
      "text/plain": [
       "           date  meter_id  kwh\n",
       "0    2023-01-04  48423455  793\n",
       "1    2023-01-04  90233576  111\n",
       "2    2023-01-04  86117822  769\n",
       "3    2023-01-04  34845937   27\n",
       "4    2023-01-04  81269975  560\n",
       "...         ...       ...  ...\n",
       "3645 2024-01-03  98812658  478\n",
       "3646 2024-01-03  21102326  578\n",
       "3647 2024-01-03  50671192  648\n",
       "3648 2024-01-03  31821787  521\n",
       "3649 2024-01-03  66772206  380\n",
       "\n",
       "[3650 rows x 3 columns]"
      ]
     },
     "execution_count": 11,
     "metadata": {},
     "output_type": "execute_result"
    }
   ],
   "source": [
    "generate_consumption_data(generated_meters['meter_id'].tolist(), '01/04/2023', 365)"
   ]
  },
  {
   "cell_type": "markdown",
   "id": "7a828bf7-0361-4111-a693-a2076341ea4f",
   "metadata": {},
   "source": [
    "## Benchmarking and Observations"
   ]
  },
  {
   "cell_type": "code",
   "execution_count": 12,
   "id": "a478f69f-1035-4401-af3d-a4e42ce3bf6b",
   "metadata": {
    "tags": []
   },
   "outputs": [
    {
     "name": "stdout",
     "output_type": "stream",
     "text": [
      "Execution time for 10 meters and 100 days of consumption forecast: 0.0320 seconds\n"
     ]
    }
   ],
   "source": [
    "# benchmark_transportation_charges(num_meters: int, valid_zones: list, start_date: datetime, num_days: int, rates: pd.DataFrame)\n",
    "result = benchmark_transportation_charges(10, rates_df.exit_zone.unique().tolist(), datetime.now().date(), 100, rates_df)"
   ]
  },
  {
   "cell_type": "code",
   "execution_count": 13,
   "id": "1b147479",
   "metadata": {},
   "outputs": [
    {
     "name": "stdout",
     "output_type": "stream",
     "text": [
      "Execution time for 100 meters and 1000 days of consumption forecast: 1.7542 seconds\n"
     ]
    }
   ],
   "source": [
    "result = benchmark_transportation_charges(100, rates_df.exit_zone.unique().tolist(), datetime.now().date(), 1000, rates_df)"
   ]
  },
  {
   "cell_type": "code",
   "execution_count": 14,
   "id": "e8fa377d-2204-4ccb-8172-dfc6d31ecef6",
   "metadata": {
    "tags": []
   },
   "outputs": [
    {
     "name": "stdout",
     "output_type": "stream",
     "text": [
      "Execution time for 200 meters and 1000 days of consumption forecast: 3.3313 seconds\n"
     ]
    }
   ],
   "source": [
    "result = benchmark_transportation_charges(200, rates_df.exit_zone.unique().tolist(), datetime.now().date(), 1000, rates_df)"
   ]
  },
  {
   "cell_type": "code",
   "execution_count": 15,
   "id": "6f7e392e-d503-4991-89d6-a98020648028",
   "metadata": {
    "tags": []
   },
   "outputs": [
    {
     "name": "stdout",
     "output_type": "stream",
     "text": [
      "Execution time for 500 meters and 1000 days of consumption forecast: 8.1225 seconds\n"
     ]
    }
   ],
   "source": [
    "result = benchmark_transportation_charges(500, rates_df.exit_zone.unique().tolist(), datetime.now().date(), 1000, rates_df)"
   ]
  },
  {
   "cell_type": "code",
   "execution_count": 16,
   "id": "bc32854d-8855-45be-872c-9c89f3fadb8c",
   "metadata": {
    "tags": []
   },
   "outputs": [
    {
     "name": "stdout",
     "output_type": "stream",
     "text": [
      "Execution time for 30 meters and 3000 days of consumption forecast: 1.4637 seconds\n"
     ]
    }
   ],
   "source": [
    "result = benchmark_transportation_charges(30, rates_df.exit_zone.unique().tolist(), datetime.now().date(), 3000, rates_df)"
   ]
  },
  {
   "cell_type": "code",
   "execution_count": 17,
   "id": "b265090a-33d2-4ace-9bca-ef2a6d00f73b",
   "metadata": {
    "tags": []
   },
   "outputs": [
    {
     "name": "stdout",
     "output_type": "stream",
     "text": [
      "Execution time for 30 meters and 30000 days of consumption forecast: 15.6904 seconds\n"
     ]
    }
   ],
   "source": [
    "result = benchmark_transportation_charges(30, rates_df.exit_zone.unique().tolist(), datetime.now().date(), 30000, rates_df)"
   ]
  },
  {
   "cell_type": "code",
   "execution_count": 18,
   "id": "86e7b5f4-9586-4547-88bc-e7c3edd52ae5",
   "metadata": {
    "tags": []
   },
   "outputs": [
    {
     "name": "stdout",
     "output_type": "stream",
     "text": [
      "Execution time for 500 meters and 500 days of consumption forecast: 4.2461 seconds\n"
     ]
    }
   ],
   "source": [
    "result = benchmark_transportation_charges(500, rates_df.exit_zone.unique().tolist(), datetime.now().date(), 500, rates_df)"
   ]
  },
  {
   "cell_type": "code",
   "execution_count": 19,
   "id": "59189137-7be9-4087-b500-e0b581940bee",
   "metadata": {
    "tags": []
   },
   "outputs": [
    {
     "name": "stdout",
     "output_type": "stream",
     "text": [
      "Execution time for 1000 meters and 1000 days of consumption forecast: 16.4059 seconds\n"
     ]
    }
   ],
   "source": [
    "result = benchmark_transportation_charges(1000, rates_df.exit_zone.unique().tolist(), datetime.now().date(), 1000, rates_df)"
   ]
  },
  {
   "cell_type": "markdown",
   "id": "e1a05e60-d7a3-400e-bc31-c91154701e5d",
   "metadata": {},
   "source": [
    "\n",
    "### Observations:\n",
    "The function performs well for small sets of data, but the execution time increases significantly for larger sets (i.e. as the number of meters and days of consumption forecast increases). \n",
    "\n",
    "It isn't able to perform calculations for huge dataset because of memory issues as size of the dataframe increase more than allocated memory.\n",
    "\n",
    "The function scales poorly for larger sets of data, as the execution time for 1000 meters and 1000 days of consumption forecast is more than 16 seconds, which is relatively high.\n",
    "\n",
    "### Improvements:\n",
    "\n",
    "\n",
    "One way to optimize the performance of the function is to reduce the number of calculations by filtering out irrelevant data or by grouping data to reduce the number of unique combinations that need to be calculated. For example, we can filter out meters that do not have any consumption data.\n",
    "\n",
    "We can also improve the merging of the consumption, meters, and rates DataFrames, which can be memory-intensive and time-consuming for large sets of data. This can potentially be improved by using more efficient memory usage and operations like merging in chunks or using indexing\n",
    "\n",
    "An improvement could be to parallelize some of the steps in the calculation using libraries such as Dask or Ray. This could help to distribute the computation across multiple cores or machines and speed up the overall process.\n",
    "\n",
    "Another possible improvement is to use multi-threading or parallel processing to speed up the execution time, especially for large sets of data.\n",
    "\n",
    "Finally, optimizing the data types used in the calculation could also improve performance. For example, using integer or categorical data types instead of strings or objects can reduce memory usage and improve processing time.\n"
   ]
  }
 ],
 "metadata": {
  "kernelspec": {
   "display_name": "dataeng",
   "language": "python",
   "name": "dataeng"
  },
  "language_info": {
   "codemirror_mode": {
    "name": "ipython",
    "version": 3
   },
   "file_extension": ".py",
   "mimetype": "text/x-python",
   "name": "python",
   "nbconvert_exporter": "python",
   "pygments_lexer": "ipython3",
   "version": "3.10.8"
  }
 },
 "nbformat": 4,
 "nbformat_minor": 5
}
